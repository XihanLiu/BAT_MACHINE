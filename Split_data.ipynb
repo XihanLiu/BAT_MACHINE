{
 "cells": [
  {
   "cell_type": "code",
   "execution_count": 197,
   "metadata": {},
   "outputs": [],
   "source": [
    "import matplotlib.pyplot as plt\n",
    "import pandas as pd\n",
    "import numpy as np\n",
    "from scipy import signal\n",
    "import os\n",
    "from sklearn.model_selection import train_test_split\n",
    "from sklearn.utils import shuffle\n",
    "import shutil\n",
    "rng = np.random.default_rng()"
   ]
  },
  {
   "cell_type": "code",
   "execution_count": 184,
   "metadata": {},
   "outputs": [
    {
     "name": "stdout",
     "output_type": "stream",
     "text": [
      "960 960 960\n",
      "960 960 960\n"
     ]
    }
   ],
   "source": [
    "data_dir = \"/Users/timothylee/Documents/Machine Intelligence on Embedded Systems/Final Project/\"\n",
    "big_moth_files = []\n",
    "medium_moth_files = []\n",
    "small_moth_files = []\n",
    "for d in os.listdir(data_dir):\n",
    "    if os.path.isdir(d):\n",
    "        file_dir = os.path.join(data_dir,d)\n",
    "        if 'Big' in d:\n",
    "            for f in os.listdir(file_dir):\n",
    "                big_moth_files.append(os.path.join(d,f))\n",
    "        if 'Medium' in d:\n",
    "            for f in os.listdir(file_dir):\n",
    "                medium_moth_files.append(os.path.join(d,f))\n",
    "        if 'Small' in d:\n",
    "            for f in os.listdir(file_dir):\n",
    "                small_moth_files.append(os.path.join(d,f))\n",
    "print(len(big_moth_files), len(medium_moth_files), len(small_moth_files))\n",
    "big_moth_labels = [[1,0,0]] * len(big_moth_files)\n",
    "medium_moth_labels = [[0,1,0]] * len(medium_moth_files)\n",
    "small_moth_labels = [[0,0,1]] * len(small_moth_files)\n",
    "print(len(big_moth_labels), len(medium_moth_labels), len(small_moth_labels))"
   ]
  },
  {
   "cell_type": "code",
   "execution_count": 187,
   "metadata": {},
   "outputs": [],
   "source": [
    "# Split data into 60/20/20\n",
    "big_train, big_test, big_train_labels, big_test_labels = train_test_split(big_moth_files, big_moth_labels, test_size=0.2, random_state=10)\n",
    "medium_train, medium_test, medium_train_labels, medium_test_labels = train_test_split(medium_moth_files, medium_moth_labels, test_size=0.2, random_state=10)\n",
    "small_train, small_test, small_train_labels, small_test_labels = train_test_split(small_moth_files, small_moth_labels, test_size=0.2, random_state=10)\n",
    "\n",
    "big_train, big_val, big_train_labels, big_val_labels = train_test_split(big_train, big_train_labels, test_size=0.25, random_state=10)\n",
    "medium_train, medium_val, medium_train_labels, medium_val_labels = train_test_split(medium_train, medium_train_labels, test_size=0.25, random_state=10)\n",
    "small_train, small_val, small_train_labels, small_val_labels = train_test_split(small_train, small_train_labels, test_size=0.25, random_state=10)"
   ]
  },
  {
   "cell_type": "code",
   "execution_count": 188,
   "metadata": {},
   "outputs": [
    {
     "name": "stdout",
     "output_type": "stream",
     "text": [
      "576 192 192\n",
      "576 192 192\n",
      "576 192 192\n"
     ]
    }
   ],
   "source": [
    "print(len(big_train), len(big_val), len(big_test))\n",
    "print(len(medium_train), len(medium_val), len(medium_test))\n",
    "print(len(small_train), len(small_val), len(small_test))"
   ]
  },
  {
   "cell_type": "code",
   "execution_count": 189,
   "metadata": {},
   "outputs": [
    {
     "name": "stdout",
     "output_type": "stream",
     "text": [
      "(1728,) (576,) (576,)\n",
      "(1728, 3) (576, 3) (576, 3)\n"
     ]
    }
   ],
   "source": [
    "train_data = np.array(big_train + medium_train + small_train)\n",
    "val_data = np.array(big_val + medium_val + small_val)\n",
    "test_data = np.array(big_test + medium_test + small_test)\n",
    "\n",
    "train_labels = np.array(big_train_labels + medium_train_labels + small_train_labels)\n",
    "val_labels = np.array(big_val_labels + medium_val_labels + small_val_labels)\n",
    "test_labels = np.array(big_test_labels + medium_test_labels + small_test_labels)\n",
    "\n",
    "print(train_data.shape, val_data.shape, test_data.shape)\n",
    "print(train_labels.shape, val_labels.shape, test_labels.shape)"
   ]
  },
  {
   "cell_type": "code",
   "execution_count": 190,
   "metadata": {},
   "outputs": [],
   "source": [
    "# Shuffle data\n",
    "train_data, train_labels = shuffle(train_data, train_labels, random_state=10)\n",
    "val_data, val_labels = shuffle(val_data, val_labels, random_state=10)\n",
    "test_data, test_labels = shuffle(test_data, test_labels, random_state=10)"
   ]
  },
  {
   "cell_type": "code",
   "execution_count": 200,
   "metadata": {},
   "outputs": [
    {
     "data": {
      "text/plain": [
       "'Medium_moth_far_190.csv'"
      ]
     },
     "execution_count": 200,
     "metadata": {},
     "output_type": "execute_result"
    }
   ],
   "source": [
    "os.path.split(train_data[0])[1]"
   ]
  },
  {
   "cell_type": "code",
   "execution_count": 206,
   "metadata": {},
   "outputs": [],
   "source": [
    "# Create new train, val, test directories\n",
    "if not os.path.isdir('train'):\n",
    "    os.mkdir('train')\n",
    "for file in train_data:\n",
    "    _, filename = os.path.split(file)\n",
    "    train_file = os.path.join('train',filename)\n",
    "    shutil.copyfile(file, train_file)\n",
    "\n",
    "if not os.path.isdir('val'):\n",
    "    os.mkdir('val')\n",
    "for file in val_data:\n",
    "    _, filename = os.path.split(file)\n",
    "    val_file = os.path.join('val',filename)\n",
    "    shutil.copyfile(file, val_file)\n",
    "\n",
    "if not os.path.isdir('test'):\n",
    "    os.mkdir('test')\n",
    "for file in test_data:\n",
    "    _, filename = os.path.split(file)\n",
    "    test_file = os.path.join('test',filename)\n",
    "    shutil.copyfile(file, test_file)"
   ]
  }
 ],
 "metadata": {
  "kernelspec": {
   "display_name": "py38",
   "language": "python",
   "name": "python3"
  },
  "language_info": {
   "codemirror_mode": {
    "name": "ipython",
    "version": 3
   },
   "file_extension": ".py",
   "mimetype": "text/x-python",
   "name": "python",
   "nbconvert_exporter": "python",
   "pygments_lexer": "ipython3",
   "version": "3.8.15"
  },
  "orig_nbformat": 4
 },
 "nbformat": 4,
 "nbformat_minor": 2
}
